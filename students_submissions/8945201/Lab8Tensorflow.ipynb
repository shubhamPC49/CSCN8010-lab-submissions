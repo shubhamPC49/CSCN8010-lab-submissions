{
 "cells": [
  {
   "cell_type": "code",
   "execution_count": 1,
   "metadata": {},
   "outputs": [
    {
     "name": "stdout",
     "output_type": "stream",
     "text": [
      "Dot Product: 32.0\n"
     ]
    }
   ],
   "source": [
    "import tensorflow as tf\n",
    "\n",
    "# Defining two vectors of length 3\n",
    "vector1 = tf.constant([1, 2, 3], dtype=tf.float32)\n",
    "vector2 = tf.constant([4, 5, 6], dtype=tf.float32)\n",
    "\n",
    "# Calculating the dot product\n",
    "dot_product = tf.reduce_sum(tf.multiply(vector1, vector2))\n",
    "\n",
    "print(\"Dot Product:\", dot_product.numpy())\n"
   ]
  },
  {
   "cell_type": "code",
   "execution_count": 2,
   "metadata": {},
   "outputs": [
    {
     "name": "stdout",
     "output_type": "stream",
     "text": [
      "Matrix 1:\n",
      "[[1. 2.]\n",
      " [3. 4.]]\n",
      "Matrix 2:\n",
      "[[5. 6.]\n",
      " [7. 8.]]\n",
      "Resultant Matrix (Matrix Multiplication):\n",
      "[[19. 22.]\n",
      " [43. 50.]]\n"
     ]
    }
   ],
   "source": [
    "# Define two matrices of size (2, 2)\n",
    "matrix1 = tf.constant([[1, 2], [3, 4]], dtype=tf.float32)\n",
    "matrix2 = tf.constant([[5, 6], [7, 8]], dtype=tf.float32)\n",
    "\n",
    "# Perform matrix multiplication\n",
    "result_matrix = tf.linalg.matmul(matrix1, matrix2)\n",
    "\n",
    "print(\"Matrix 1:\")\n",
    "print(matrix1.numpy())\n",
    "\n",
    "print(\"Matrix 2:\")\n",
    "print(matrix2.numpy())\n",
    "\n",
    "print(\"Resultant Matrix (Matrix Multiplication):\")\n",
    "print(result_matrix.numpy())"
   ]
  }
 ],
 "metadata": {
  "kernelspec": {
   "display_name": "Python 3 (ipykernel)",
   "language": "python",
   "name": "python3"
  },
  "language_info": {
   "codemirror_mode": {
    "name": "ipython",
    "version": 3
   },
   "file_extension": ".py",
   "mimetype": "text/x-python",
   "name": "python",
   "nbconvert_exporter": "python",
   "pygments_lexer": "ipython3",
   "version": "3.11.5"
  }
 },
 "nbformat": 4,
 "nbformat_minor": 2
}
