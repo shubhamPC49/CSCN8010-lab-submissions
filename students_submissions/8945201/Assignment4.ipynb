{
 "cells": [
  {
   "cell_type": "markdown",
   "metadata": {},
   "source": [
    "# Loading Libraries and diabetes dataset"
   ]
  },
  {
   "cell_type": "code",
   "execution_count": 2,
   "metadata": {},
   "outputs": [],
   "source": [
    "from sklearn.datasets import load_diabetes\n",
    "import pandas as pd\n",
    "\n",
    "\n",
    "diabetes = load_diabetes(as_frame=True, scaled=False)\n"
   ]
  },
  {
   "cell_type": "markdown",
   "metadata": {},
   "source": [
    "## Splitting the data into training, validation, and test sets.\n",
    "## The data is split into a 70% training set, a 15% validation set, and a 15% test set."
   ]
  },
  {
   "cell_type": "code",
   "execution_count": 3,
   "metadata": {},
   "outputs": [],
   "source": [
    "from sklearn.model_selection import train_test_split\n",
    "\n",
    "X_train, X_temp, y_train, y_temp = train_test_split(diabetes.data, diabetes.target, test_size=0.3, random_state=42)\n",
    "X_valid, X_test, y_valid, y_test = train_test_split(X_temp, y_temp, test_size=0.5, random_state=42)\n"
   ]
  },
  {
   "cell_type": "markdown",
   "metadata": {},
   "source": [
    "## Trainnig and evaluating the multivariate linear model:"
   ]
  },
  {
   "cell_type": "code",
   "execution_count": 4,
   "metadata": {},
   "outputs": [
    {
     "name": "stdout",
     "output_type": "stream",
     "text": [
      "Linear Model - R-squared: 0.51, MAE: 38.22, MAPE: 0.35\n"
     ]
    }
   ],
   "source": [
    "from sklearn.linear_model import LinearRegression\n",
    "from sklearn.metrics import r2_score, mean_absolute_error, mean_absolute_percentage_error\n",
    "\n",
    "linear_model = LinearRegression()\n",
    "linear_model.fit(X_train, y_train)\n",
    "\n",
    "\n",
    "linear_predictions = linear_model.predict(X_valid)\n",
    "\n",
    "r2 = r2_score(y_valid, linear_predictions)\n",
    "mae = mean_absolute_error(y_valid, linear_predictions)\n",
    "mape = mean_absolute_percentage_error(y_valid, linear_predictions)\n",
    "\n",
    "print(f\"Linear Model - R-squared: {r2:.2f}, MAE: {mae:.2f}, MAPE: {mape:.2f}\")\n"
   ]
  },
  {
   "cell_type": "code",
   "execution_count": 5,
   "metadata": {},
   "outputs": [
    {
     "name": "stdout",
     "output_type": "stream",
     "text": [
      "Polynomial Model (Degree 2) - R-squared: 0.30, MAE: 43.35, MAPE: 0.37\n"
     ]
    }
   ],
   "source": [
    "from sklearn.preprocessing import PolynomialFeatures\n",
    "from sklearn.pipeline import make_pipeline\n",
    "\n",
    "# polynomial regression model with degree 2\n",
    "polymodel_D2 = make_pipeline(PolynomialFeatures(degree=2), LinearRegression())\n",
    "polymodel_D2.fit(X_train, y_train)\n",
    "\n",
    "polypredictions_D2 = polymodel_D2.predict(X_valid)\n",
    "\n",
    "\n",
    "r2_poly = r2_score(y_valid, polypredictions_D2)\n",
    "mae_poly = mean_absolute_error(y_valid, polypredictions_D2)\n",
    "mape_poly = mean_absolute_percentage_error(y_valid, polypredictions_D2)\n",
    "\n",
    "print(f\"Polynomial Model (Degree 2) - R-squared: {r2_poly:.2f}, MAE: {mae_poly:.2f}, MAPE: {mape_poly:.2f}\")\n"
   ]
  },
  {
   "cell_type": "markdown",
   "metadata": {},
   "source": [
    "## 3\n"
   ]
  },
  {
   "cell_type": "code",
   "execution_count": 6,
   "metadata": {},
   "outputs": [
    {
     "name": "stdout",
     "output_type": "stream",
     "text": [
      "Polynomial Regression (Degree 2) on BMI Feature - R-squared: 0.40, MAE: 46.25, MAPE: 0.41\n"
     ]
    }
   ],
   "source": [
    "\n",
    "poly = PolynomialFeatures(degree=2)\n",
    "X_poly = poly.fit_transform(X_train)\n",
    "poly_model = LinearRegression()\n",
    "poly_model.fit(X_poly, y_train)\n",
    "\n",
    "X_test_poly = poly.transform(X_test)\n",
    "poly_predictions = poly_model.predict(X_test_poly)\n",
    "\n",
    "r2_poly = r2_score(y_test, poly_predictions)\n",
    "mae_poly = mean_absolute_error(y_test, poly_predictions)\n",
    "mape_poly = mean_absolute_percentage_error(y_test, poly_predictions)\n",
    "\n",
    "print(f\"Polynomial Regression (Degree 2) on BMI Feature - R-squared: {r2_poly:.2f}, MAE: {mae_poly:.2f}, MAPE: {mape_poly:.2f}\")\n"
   ]
  },
  {
   "cell_type": "markdown",
   "metadata": {},
   "source": [
    "## 4"
   ]
  },
  {
   "cell_type": "code",
   "execution_count": 7,
   "metadata": {},
   "outputs": [
    {
     "name": "stdout",
     "output_type": "stream",
     "text": [
      "Multivariate Polynomial Regression (Degree 2) - R-squared: 0.45, MAE: 45.95, MAPE: 0.39\n"
     ]
    }
   ],
   "source": [
    "\n",
    "poly = PolynomialFeatures(degree=2, include_bias=False)\n",
    "X_train_poly = poly.fit_transform(X_train)\n",
    "poly_model = LinearRegression()\n",
    "poly_model.fit(X_train_poly, y_train)\n",
    "\n",
    "X_test_poly = poly.transform(X_test)\n",
    "poly_predictions = poly_model.predict(X_test_poly)\n",
    "\n",
    "r2_poly = r2_score(y_test, poly_predictions)\n",
    "mae_poly = mean_absolute_error(y_test, poly_predictions)\n",
    "mape_poly = mean_absolute_percentage_error(y_test, poly_predictions)\n",
    "\n",
    "print(f\"Multivariate Polynomial Regression (Degree 2) - R-squared: {r2_poly:.2f}, MAE: {mae_poly:.2f}, MAPE: {mape_poly:.2f}\")\n"
   ]
  },
  {
   "cell_type": "markdown",
   "metadata": {},
   "source": [
    "## 5\n",
    "\n",
    "For Multivariate Linear Regression R² Measures how well the linear model fits the data. Usually Higher is better.\n",
    "MAE and MAPE indicate prediction accuracy. for them Lower values are better.\n",
    "\n",
    "Polynomial Regression (Degree 2) on 'bmi' alone R² Measures the fit of the 'bmi' feature. Higher is better.\n",
    "MAE and MAPE iIndicate prediction accuracy. Lower values are better.\n",
    "\n",
    "Multivariate Polynomial Regression (Degree 2) on all Variables R² measures how well the polynomial model fits all variables. Higher is better.\n",
    "MAE and MAPE indicate prediction accuracy. Lower values are better.\n",
    "In general, higher R² and lower MAE or MAPE are desirable. The choice of model depends on the problem and the trade-off between complexity and predictive accuracy."
   ]
  },
  {
   "cell_type": "code",
   "execution_count": 9,
   "metadata": {},
   "outputs": [
    {
     "name": "stdout",
     "output_type": "stream",
     "text": [
      "Multivariate Linear Regression for Degree 2:\n",
      "R-squared: 0.45, MAE: 45.95, MAPE: 0.39\n",
      "\n",
      "Polynomial Regression (Degree 2) on 'bmi' Alone:\n",
      "R-squared (bmi): 0.45, MAE (bmi): 45.95, MAPE (bmi): 0.39\n",
      "\n",
      "Multivariate Polynomial Regression (Degree 2) on All Variables:\n",
      "R-squared: 0.45, MAE: 45.95, MAPE: 0.39\n"
     ]
    }
   ],
   "source": [
    "print(\"Multivariate Linear Regression for Degree 2:\")\n",
    "print(f\"R-squared: {r2_poly:.2f}, MAE: {mae_poly:.2f}, MAPE: {mape_poly:.2f}\\n\")\n",
    "\n",
    "print(\"Polynomial Regression (Degree 2) on 'bmi' Alone:\")\n",
    "print(f\"R-squared (bmi): {r2_poly:.2f}, MAE (bmi): {mae_poly:.2f}, MAPE (bmi): {mape_poly:.2f}\\n\")\n",
    "\n",
    "print(\"Multivariate Polynomial Regression (Degree 2) on All Variables:\")\n",
    "print(f\"R-squared: {r2_poly:.2f}, MAE: {mae_poly:.2f}, MAPE: {mape_poly:.2f}\")\n"
   ]
  },
  {
   "cell_type": "markdown",
   "metadata": {},
   "source": [
    "## 6 i\n",
    "\n",
    "Multivariate Linear Regression\n",
    "The number of parameters is equal to the number of features in the dataset plus one for the intercept term. The features are the characteristics or columns in the diabetes dataset.\n",
    "Parameters = Number of features + 1 (for the intercept term)\n",
    "That means each feature has its own weight, and there's one extra\n",
    "\n",
    "Polynomial Regression on BMI:\n",
    "In the polynomial regression for BMI, there are three parameters: one for BMI, one for BMI squared, and one for the intercept term.\n",
    "Parameters = 3 (original 'bmi', 'bmi^2', and an intercept)\n",
    "That means we have 'bmi', 'bmi^2', and an intercept in the model.\n",
    "\n",
    "Multivariate Polynomial Regression:\n",
    "Similar to multivariate linear regression, the number of parameters depends on the number of features, but here it's larger because of the extra polynomial terms introduced by the polynomial regression.\n",
    "Parameters = So Many. Basically depends on the number of original features, interactions, and quadratic terms, plus an intercept.\n",
    "This model has more parameters because it considers interactions and quadratic terms for all original features in addition to an intercept, making it more complex.\n",
    "\n",
    "\n",
    "\n",
    "\n"
   ]
  },
  {
   "cell_type": "markdown",
   "metadata": {},
   "source": [
    "## 6 ii\n",
    "It deployments depends on various factors, including the specific problem, available data, and the trade-off between model complexity and interpretability. \n",
    "\n",
    "I would choose Multivariate Linear Regression for simplicity and ease of interpretation when relationships between variables are mostly linear, Polynomial Regression (Degree 2) on 'bmi' Alone if we expect a nonlinear, quadratic relationship with the 'bmi' feature and, Multivariate Polynomial Regression (Degree 2) on All Variables when we suspect complex, nonlinear interactions between multiple features.\n"
   ]
  }
 ],
 "metadata": {
  "kernelspec": {
   "display_name": "CS8010",
   "language": "python",
   "name": "python3"
  },
  "language_info": {
   "codemirror_mode": {
    "name": "ipython",
    "version": 3
   },
   "file_extension": ".py",
   "mimetype": "text/x-python",
   "name": "python",
   "nbconvert_exporter": "python",
   "pygments_lexer": "ipython3",
   "version": "3.11.5"
  }
 },
 "nbformat": 4,
 "nbformat_minor": 2
}
