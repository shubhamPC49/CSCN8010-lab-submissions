{
 "cells": [
  {
   "cell_type": "markdown",
   "metadata": {},
   "source": [
    "## Name - Shubham Prajapati\n",
    "## Student ID - 8945201"
   ]
  },
  {
   "cell_type": "markdown",
   "metadata": {},
   "source": [
    "## Q1. Utilize the diabetes dataset from lab 4. Perform cross-validation on nine polynomial models, ranging from degree 0 to 8."
   ]
  },
  {
   "cell_type": "code",
   "execution_count": 1,
   "metadata": {},
   "outputs": [
    {
     "name": "stdout",
     "output_type": "stream",
     "text": [
      "Degree 0: -0.03\n",
      "Degree 1: 0.48\n",
      "Degree 2: 0.39\n",
      "Degree 3: -182.37\n",
      "Degree 4: -70.67\n",
      "Degree 5: -67.39\n",
      "Degree 6: -67.45\n",
      "Degree 7: -67.45\n",
      "Degree 8: -67.44\n"
     ]
    }
   ],
   "source": [
    "import numpy as np\n",
    "from sklearn.datasets import load_diabetes\n",
    "from sklearn.model_selection import cross_val_score\n",
    "from sklearn.linear_model import LinearRegression\n",
    "from sklearn.preprocessing import PolynomialFeatures\n",
    "\n",
    "diabetes = load_diabetes()\n",
    "X = diabetes.data\n",
    "y = diabetes.target\n",
    "\n",
    "cross_val_scores = []\n",
    "\n",
    "# degrees from 0 to 8\n",
    "for degree in range(9):\n",
    "    poly = PolynomialFeatures(degree=degree)\n",
    "    X_poly = poly.fit_transform(X)\n",
    "    \n",
    "    # Creating a linear regression model\n",
    "    model = LinearRegression()\n",
    "    \n",
    "    # Performing cross-validation on nine polynomial model\n",
    "    scores = cross_val_score(model, X_poly, y, cv=5)\n",
    "    cross_val_scores.append(scores.mean())\n",
    "\n",
    "for degree, score in enumerate(cross_val_scores):\n",
    "    print(f\"Degree {degree}: {score:.2f}\")\n"
   ]
  },
  {
   "cell_type": "markdown",
   "metadata": {},
   "source": [
    "## Q2. Construct a table summarizing the cross-validation results. Each model should have a separate row in the table. Include the R-Squared, Mean Absolute Error (MAE) and MAPE metrics for each model. Calculate the mean value and standard deviation of these metrics from the cross-validation. Include both values."
   ]
  },
  {
   "cell_type": "code",
   "execution_count": 2,
   "metadata": {},
   "outputs": [
    {
     "name": "stdout",
     "output_type": "stream",
     "text": [
      "   Degree  R-Squared           MAE          MAPE\n",
      "0       0   0.000000  6.576457e+01  6.212156e+01\n",
      "1       1   0.517748  4.327745e+01  3.878618e+01\n",
      "2       2   0.592440  3.915901e+01  3.459813e+01\n",
      "3       3   0.798067  2.566021e+01  2.352158e+01\n",
      "4       4   1.000000  1.217859e-10  1.101501e-10\n",
      "5       5   1.000000  1.246971e-10  1.139069e-10\n",
      "6       6   1.000000  1.262092e-10  1.147348e-10\n",
      "7       7   1.000000  1.278385e-10  1.179825e-10\n",
      "8       8   1.000000  1.486468e-10  1.348009e-10\n",
      "\n",
      "Mean Values:\n",
      "Degree        4.000000\n",
      "R-Squared     0.767584\n",
      "MAE          19.317916\n",
      "MAPE         17.669716\n",
      "dtype: float64\n",
      "\n",
      "Standard Deviation:\n",
      "Degree        2.738613\n",
      "R-Squared     0.345198\n",
      "MAE          25.077765\n",
      "MAPE         23.194237\n",
      "dtype: float64\n"
     ]
    }
   ],
   "source": [
    "import pandas as pd\n",
    "from sklearn.metrics import r2_score, mean_absolute_error\n",
    "\n",
    "results = []\n",
    "\n",
    "# Looping through degrees from 0 to 8\n",
    "for degree in range(9):\n",
    "   \n",
    "    poly2 = PolynomialFeatures(degree=degree)\n",
    "    X_poly2 = poly2.fit_transform(X)\n",
    "    model2 = LinearRegression()\n",
    "    \n",
    "    # Performing cross-validation\n",
    "    scores2 = cross_val_score(model2, X_poly, y, cv=5)\n",
    "    \n",
    "    # Calculating the R-squared, MAE, and MAPE\n",
    "    r_squared = np.mean([r2_score(y, model2.fit(X_poly2, y).predict(X_poly2))])\n",
    "    mae = np.mean([mean_absolute_error(y, model2.fit(X_poly2, y).predict(X_poly2))])\n",
    "    mape = np.mean(np.abs((y - model2.fit(X_poly2, y).predict(X_poly2)) / y)) * 100\n",
    "    results.append([degree, r_squared, mae, mape])\n",
    "\n",
    "# Creating new DataFrame to display the results\n",
    "columns = ['Degree', 'R-Squared', 'MAE', 'MAPE']\n",
    "df = pd.DataFrame(results, columns=columns)\n",
    "\n",
    "# Calculating the mean and standard deviation of the metrics\n",
    "mean_values = df.mean()\n",
    "std_values = df.std()\n",
    "\n",
    "# Showing the final result\n",
    "print(df)\n",
    "print(\"\\nMean Values:\")\n",
    "print(mean_values)\n",
    "print(\"\\nStandard Deviation:\")\n",
    "print(std_values)\n"
   ]
  },
  {
   "cell_type": "markdown",
   "metadata": {},
   "source": [
    "## Q3. Identification of the Best Model: Identify the model that exhibits the highest performance based on the R-Squared, MAE and MAPE metrics. Provide an explanation for choosing this specific model."
   ]
  },
  {
   "cell_type": "markdown",
   "metadata": {},
   "source": [
    "## Answer\n",
    "R-Squared (R²) - The model with a degree of 4 has an R-squared value of 1.0, indicating that it perfectly explains the variance in the data. This is the highest possible R-squared value and signifies an excellent fit.\n",
    "\n",
    "Mean Absolute Error (MAE) - The model with a degree of 4 has an extremely low MAE, close to zero, which suggests very accurate predictions. In fact, the MAE is so close to zero that it can be considered negligible.\n",
    "\n",
    "Mean Absolute Percentage Error (MAPE) - Similarly, the model with a degree of 4 has an extremely low MAPE, close to zero, indicating that the percentage error in predictions is negligible.\n",
    "\n",
    "In summary, the model with a degree of 4 performs exceptionally well in all three metrics—R-squared, MAE, and MAPE. It explains the data variance perfectly, makes highly accurate predictions, and has an almost negligible percentage error. Therefore, this specific model with a degree of 4 is the best choice for this dataset."
   ]
  },
  {
   "cell_type": "markdown",
   "metadata": {},
   "source": [
    "## Q4. Additional analysis and interpretation of the models' performances. You may explore further insights beyond the required metrics. The analysis should provide at least one relevant insight about the choice of the best model, or about characteristics of the chosen one (for example - an analysis of in which instances does it fail)"
   ]
  },
  {
   "cell_type": "markdown",
   "metadata": {},
   "source": [
    "## Answer\n",
    "Analysis of Model Performances:\n",
    "\n",
    "Degree 4 - This model has a perfect R-squared of 1.0, indicating a flawless fit. However, a perfect R-squared might be a sign of overfitting. MAE and MAPE are extremely close to zero, suggesting high prediction accuracy.\n",
    "\n",
    "Degree 3 - The model with a degree of 3 still has a high R-squared (0.798) and reasonable MAE and MAPE, indicating good explanatory power and accuracy.\n",
    "\n",
    "Degree 2 - Degree 2 shows a good R-squared (0.592) but higher MAE and MAPE, suggesting a moderate ability to explain data variance and lower accuracy.\n",
    "\n",
    "Degree 1 - Degree 1 has the lowest R-squared (0.517), indicating weaker explanatory power. MAE and MAPE are higher, signifying lower accuracy.\n",
    "\n",
    "Insight - The degree 4 model performs the best in this dataset but may exhibit signs of overfitting due to its perfect R-squared. While it excels in this specific dataset, it's essential to validate its performance on new data to avoid poor generalization. Overly complex models (high-degree polynomials) can struggle with unseen data, so thorough evaluation on validation or test data is crucial for real-world applications."
   ]
  }
 ],
 "metadata": {
  "kernelspec": {
   "display_name": "CS8010",
   "language": "python",
   "name": "python3"
  },
  "language_info": {
   "codemirror_mode": {
    "name": "ipython",
    "version": 3
   },
   "file_extension": ".py",
   "mimetype": "text/x-python",
   "name": "python",
   "nbconvert_exporter": "python",
   "pygments_lexer": "ipython3",
   "version": "3.11.5"
  }
 },
 "nbformat": 4,
 "nbformat_minor": 2
}
