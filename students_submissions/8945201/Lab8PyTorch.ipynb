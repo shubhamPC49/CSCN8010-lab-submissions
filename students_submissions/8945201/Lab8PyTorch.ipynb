{
 "cells": [
  {
   "cell_type": "code",
   "execution_count": 6,
   "metadata": {},
   "outputs": [
    {
     "name": "stdout",
     "output_type": "stream",
     "text": [
      "Dot Product: 32.0\n"
     ]
    }
   ],
   "source": [
    "import torch\n",
    "\n",
    "# Defining two vectors of length 3\n",
    "vector1 = torch.tensor([1, 2, 3], dtype=torch.float32)\n",
    "vector2 = torch.tensor([4, 5, 6], dtype=torch.float32)\n",
    "\n",
    "# Calculating the dot product\n",
    "dot_product = torch.dot(vector1, vector2)\n",
    "\n",
    "print(\"Dot Product:\", dot_product.item())\n"
   ]
  },
  {
   "cell_type": "code",
   "execution_count": 7,
   "metadata": {},
   "outputs": [
    {
     "name": "stdout",
     "output_type": "stream",
     "text": [
      "Matrix 1:\n",
      "tensor([[1., 2.],\n",
      "        [3., 4.]])\n",
      "\n",
      "\n",
      "Matrix 2:\n",
      "tensor([[5., 6.],\n",
      "        [7., 8.]])\n",
      "\n",
      "\n",
      "Resultant Matrix (Matrix Multiplication):\n",
      "tensor([[19., 22.],\n",
      "        [43., 50.]])\n"
     ]
    }
   ],
   "source": [
    "# defining 2 matrixs of size(2,2)\n",
    "matrix1 = torch.tensor([[1, 2,], [3, 4]], dtype=torch.float32)\n",
    "print(\"Matrix 1:\")\n",
    "print(matrix1)\n",
    "\n",
    "print(\"\\n\")\n",
    "\n",
    "matrix2 = torch.tensor([[5, 6], [7, 8]], dtype=torch.float32)\n",
    "print(\"Matrix 2:\")\n",
    "print(matrix2)\n",
    "\n",
    "print(\"\\n\")\n",
    "\n",
    "# Performing matrix multiplication using PyTorch\n",
    "multiplication = torch.matmul(matrix1, matrix2)\n",
    "print(\"Resultant Matrix (Matrix Multiplication):\")\n",
    "print(multiplication)"
   ]
  }
 ],
 "metadata": {
  "kernelspec": {
   "display_name": "Python 3 (ipykernel)",
   "language": "python",
   "name": "python3"
  },
  "language_info": {
   "codemirror_mode": {
    "name": "ipython",
    "version": 3
   },
   "file_extension": ".py",
   "mimetype": "text/x-python",
   "name": "python",
   "nbconvert_exporter": "python",
   "pygments_lexer": "ipython3",
   "version": "3.10.8"
  }
 },
 "nbformat": 4,
 "nbformat_minor": 2
}
